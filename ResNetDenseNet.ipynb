{
  "nbformat": 4,
  "nbformat_minor": 0,
  "metadata": {
    "colab": {
      "name": "Untitled3.ipynb",
      "provenance": [],
      "authorship_tag": "ABX9TyPG2J0VQhTtxjZxeQGGCoPO",
      "include_colab_link": true
    },
    "kernelspec": {
      "name": "python3",
      "display_name": "Python 3"
    },
    "language_info": {
      "name": "python"
    }
  },
  "cells": [
    {
      "cell_type": "markdown",
      "metadata": {
        "id": "view-in-github",
        "colab_type": "text"
      },
      "source": [
        "<a href=\"https://colab.research.google.com/github/NisargShah07/ObjectDetection/blob/main/ResNetDenseNet.ipynb\" target=\"_parent\"><img src=\"https://colab.research.google.com/assets/colab-badge.svg\" alt=\"Open In Colab\"/></a>"
      ]
    },
    {
      "cell_type": "code",
      "metadata": {
        "id": "tt0YPGRy6MIy"
      },
      "source": [
        "import numpy as np\n",
        "import tensorflow\n",
        "import tensorflow.keras as keras"
      ],
      "execution_count": null,
      "outputs": []
    },
    {
      "cell_type": "code",
      "metadata": {
        "id": "DMfZAXoT6g2A"
      },
      "source": [
        "(x_train, y_train), (x_test, y_test) = keras.datasets.cifar10.load_data()"
      ],
      "execution_count": null,
      "outputs": []
    },
    {
      "cell_type": "code",
      "metadata": {
        "id": "Oyxfvtk_f-mp"
      },
      "source": [
        "model1=keras.applications.ResNet101V2(include_top=False,input_shape=(32,32,3))\n",
        "flat1=keras.layers.Flatten()(model1.layers[-1].output)\n",
        "model2=keras.applications.DenseNet201(include_top=False,input_shape=(32,32,3))\n",
        "flat2=keras.layers.Flatten()(model2.layers[-1].output)"
      ],
      "execution_count": null,
      "outputs": []
    },
    {
      "cell_type": "code",
      "metadata": {
        "id": "0CISxzGDi6Wn"
      },
      "source": [
        "for layer in model2.layers:\n",
        "    layer._name=layer._name+'2'"
      ],
      "execution_count": null,
      "outputs": []
    },
    {
      "cell_type": "code",
      "metadata": {
        "id": "Vc6ke7QUAf1p"
      },
      "source": [
        "out=model1.layers[-1].output\n",
        "def model_custom():\n",
        "  # input_layer=keras.layers.Input(shape=(224,224,3))\n",
        "  # model1=keras.applications.DenseNet201(include_top=False,input_shape=(32,32,3))\n",
        "  # flat1=keras.layers.Flatten()(model1.layers[-1].output)\n",
        "  concatLayer=keras.layers.Concatenate(axis=1)([flat1,flat2])\n",
        "  layer1=keras.layers.Dense(units=256,activation='relu')(concatLayer)\n",
        "  layer4=keras.layers.Dense(units=128,activation='relu')(layer1)\n",
        "  layer7=keras.layers.Dense(units=10,activation='softmax')(layer4)\n",
        "  model=keras.Model(inputs=[model1.inputs,model2.inputs],outputs=layer7)\n",
        "  return model"
      ],
      "execution_count": null,
      "outputs": []
    },
    {
      "cell_type": "code",
      "metadata": {
        "id": "O3d3tVcNEMSi"
      },
      "source": [
        "model=model_custom()\n",
        "model.summary()"
      ],
      "execution_count": null,
      "outputs": []
    },
    {
      "cell_type": "code",
      "metadata": {
        "id": "24r6XlPEI33_"
      },
      "source": [
        "model.compile(optimizer='adam',loss='sparse_categorical_crossentropy',metrics=['acc'])"
      ],
      "execution_count": null,
      "outputs": []
    },
    {
      "cell_type": "code",
      "metadata": {
        "id": "-esyszmda1hX"
      },
      "source": [
        "model.fit([x_train,x_train],y_train,batch_size=64,epochs=30,validation_split=0.2)"
      ],
      "execution_count": null,
      "outputs": []
    },
    {
      "cell_type": "code",
      "metadata": {
        "id": "iJ0fhOMSfeVa"
      },
      "source": [
        "loss,acc=model.evaluate([x_test,x_test],y_test)\n",
        "print(acc)"
      ],
      "execution_count": null,
      "outputs": []
    },
    {
      "cell_type": "code",
      "metadata": {
        "id": "KXXYJ-FCw8xX"
      },
      "source": [
        "from google.colab import drive\n",
        "drive.mount('/content/drive')"
      ],
      "execution_count": null,
      "outputs": []
    },
    {
      "cell_type": "code",
      "metadata": {
        "id": "Q18zXDZC7d5R"
      },
      "source": [
        "def plot_ResNet_CAM(orig_image_path,pred_class ):\n",
        "  \n",
        "    im = image.load_img(orig_image_path, target_size=(224, 224))\n",
        "    # plot image\n",
        "    fig, ax = plt.subplots(nrows=1, ncols=2)\n",
        "    fig.set_size_inches(10, 20)\n",
        "    ax[0].imshow(im)\n",
        "    ax[0].set_title('Original Image')\n",
        "    ax[0].axis('off')\n",
        "    \n",
        "    ax[1].imshow(im, alpha=0.5)\n",
        "    # ax[1].imshow(CAM, cmap='jet', alpha=0.5)\n",
        "    ax[1].axis('off')\n",
        "    ax[1].set_title(pred_class)\n",
        "   \n",
        "    # get the category name\n",
        "    # with open(imagenet100_clsid_to_text_path) as imagenet_classes_file:\n",
        "    #     imagenet_classes_dict = ast.literal_eval(imagenet_classes_file.read())\n",
        "    # ax[1].set_title(imagenet_classes_dict[pred_class].split(',')[0])    \n",
        "    plt.show()"
      ],
      "execution_count": null,
      "outputs": []
    },
    {
      "cell_type": "code",
      "metadata": {
        "id": "LpaWGHHf7h87"
      },
      "source": [
        "import cv2\n",
        "from keras.preprocessing import image \n",
        "import matplotlib.pyplot as plt\n",
        "img_path=\"/content/images.jpg\"\n",
        "img=cv2.imread(img_path)\n",
        "img = cv2.resize(img,(32,32),3)\n",
        "img=np.array(img)\n",
        "img = np.expand_dims(img, axis=0)\n",
        "pred_class=model.predict([img,img])\n",
        "plot_ResNet_CAM(img_path, pred_class )"
      ],
      "execution_count": null,
      "outputs": []
    }
  ]
}
